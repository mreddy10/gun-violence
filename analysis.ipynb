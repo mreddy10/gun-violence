{
 "cells": [
  {
   "cell_type": "markdown",
   "metadata": {
    "collapsed": true
   },
   "source": [
    "This is an analysis of a dataset from FiveThirtyEight on gun deaths in the US from 2012 - 2014. \n",
    "Each row in the dataset represents a single gun death. \n",
    "Column values: \n",
    "    year -- year in which fatality occured\n",
    "    month -- month in which fatality occured\n",
    "    intent -- the intent of the perpetrator of the crime (Suicide, Accidental, NA, Homicide, or Undetermined.)\n",
    "    police -- whether a police officer was involved in the shooting (0 - false or 1 - true)\n",
    "    sex -- gender of the victim (M or F)\n",
    "    age -- age of victim\n",
    "    race -- race of victim (Asian/Pacific Islander, Native American/Native Alaskan, Black, Hispanic, or White.)\n",
    "    hispanic -- a code indicating the Hispanic origin of the victim.\n",
    "    place -- where the shooting occurred. Has several categories:\n",
    "        - Home\n",
    "        - Street\n",
    "        - Other specified\n",
    "    education -- educational status of the victim. Can be one of the following:\n",
    "        1 -- Less than High School\n",
    "        2 -- Graduated from High School or equivalent\n",
    "        3 -- Some College\n",
    "        4 -- At least graduated from College\n",
    "        5 -- Not available"
   ]
  },
  {
   "cell_type": "code",
   "execution_count": 90,
   "metadata": {
    "collapsed": true
   },
   "outputs": [],
   "source": [
    "import csv\n",
    "import datetime"
   ]
  },
  {
   "cell_type": "code",
   "execution_count": 91,
   "metadata": {
    "collapsed": false
   },
   "outputs": [],
   "source": [
    "with open(\"guns.csv\", 'r') as f:\n",
    "    csv_read = csv.reader(f)\n",
    "    data = list(csv_read)\n",
    "    #print(data[0:5])"
   ]
  },
  {
   "cell_type": "code",
   "execution_count": 92,
   "metadata": {
    "collapsed": false,
    "scrolled": true
   },
   "outputs": [],
   "source": [
    "    headers = data[0]\n",
    "    data = data[1:]\n",
    "    #print(headers)\n",
    "    #print(data[0:5])"
   ]
  },
  {
   "cell_type": "code",
   "execution_count": 93,
   "metadata": {
    "collapsed": false
   },
   "outputs": [
    {
     "name": "stdout",
     "output_type": "stream",
     "text": [
      "{'2014': 33599, '2013': 33636, '2012': 33563}\n"
     ]
    }
   ],
   "source": [
    "    # Calculate how many gun deaths happened in each year:\n",
    "    years = []\n",
    "    for row in data:\n",
    "        years.append(row[1])\n",
    "    year_counts = {}\n",
    "    for year in years: \n",
    "        if year in year_counts:\n",
    "            year_counts[year] += 1\n",
    "        else:\n",
    "            year_counts[year] = 1\n",
    "    #print(year_counts)"
   ]
  },
  {
   "cell_type": "code",
   "execution_count": 94,
   "metadata": {
    "collapsed": false
   },
   "outputs": [
    {
     "name": "stdout",
     "output_type": "stream",
     "text": [
      "[datetime.datetime(2012, 1, 1, 0, 0), datetime.datetime(2012, 1, 1, 0, 0), datetime.datetime(2012, 1, 1, 0, 0), datetime.datetime(2012, 2, 1, 0, 0), datetime.datetime(2012, 2, 1, 0, 0), datetime.datetime(2012, 2, 1, 0, 0), datetime.datetime(2012, 2, 1, 0, 0), datetime.datetime(2012, 3, 1, 0, 0), datetime.datetime(2012, 2, 1, 0, 0), datetime.datetime(2012, 2, 1, 0, 0)]\n"
     ]
    }
   ],
   "source": [
    "    #Examine how gun deaths change by month and year:\n",
    "    dates = []\n",
    "    for row in data:\n",
    "        date = datetime.datetime(year = int(row[1]), month = int(row[2]), day = 1)\n",
    "        dates.append(date)\n",
    "    #print(dates[:10])"
   ]
  },
  {
   "cell_type": "code",
   "execution_count": 95,
   "metadata": {
    "collapsed": false
   },
   "outputs": [],
   "source": [
    "    date_counts = {}\n",
    "    for date in dates:\n",
    "        if date in date_counts:\n",
    "            date_counts[date] += 1\n",
    "        else:\n",
    "            date_counts[date] = 1\n",
    "    #print(date_counts)\n",
    "    "
   ]
  },
  {
   "cell_type": "code",
   "execution_count": 96,
   "metadata": {
    "collapsed": false
   },
   "outputs": [],
   "source": [
    "    date_counts = {}\n",
    "    for date in dates:\n",
    "        if date in date_counts:\n",
    "            date_counts[date] += 1\n",
    "        else:\n",
    "            date_counts[date] = 1\n",
    "    #print(date_counts)"
   ]
  },
  {
   "cell_type": "code",
   "execution_count": 97,
   "metadata": {
    "collapsed": false
   },
   "outputs": [],
   "source": [
    "    sex_list = [row[5] for row in data]\n",
    "    sex_counts = {}\n",
    "    for row in sex_list:\n",
    "        if row in sex_counts:\n",
    "            sex_counts[row] +=1\n",
    "        else:\n",
    "            sex_counts[row] = 1\n",
    "    #print(sex_counts)"
   ]
  },
  {
   "cell_type": "code",
   "execution_count": 98,
   "metadata": {
    "collapsed": true
   },
   "outputs": [],
   "source": [
    "    race_list = [row[7] for row in data]\n",
    "    race_counts = {}\n",
    "    for row in race_list:\n",
    "        if row in race_counts:\n",
    "            race_counts[row] +=1\n",
    "        else:\n",
    "            race_counts[row] = 1\n",
    "    #print(race_counts)"
   ]
  },
  {
   "cell_type": "code",
   "execution_count": 99,
   "metadata": {
    "collapsed": false
   },
   "outputs": [
    {
     "name": "stdout",
     "output_type": "stream",
     "text": [
      "{'Asian/Pacific Islander': 8.374309664161762, 'White': 33.56849303419181, 'Black': 57.8773477735196, 'Hispanic': 20.220491210910907, 'Native American/Native Alaskan': 24.521955573811088}\n"
     ]
    }
   ],
   "source": [
    "    #Calculate gun deaths per 100,000 people in each race\n",
    "    with open(\"census.csv\", 'r') as d:\n",
    "        census_csv = csv.reader(d)\n",
    "        census = list(census_csv)\n",
    "        mapping = {\n",
    "            \"Asian/Pacific Islander\": 15159516 + 674625,\n",
    "            \"Native American/Native Alaskan\": 3739506,\n",
    "            \"Black\": 40250635,\n",
    "            \"Hispanic\": 44618105,\n",
    "            \"White\": 197318956\n",
    "        }\n",
    "        race_per_hundredk = {}\n",
    "        for key, value in race_counts.items(): \n",
    "            race_per_hundredk[key] = (value / mapping[key]) * 100000\n",
    "        #print(race_per_hundredk)"
   ]
  },
  {
   "cell_type": "code",
   "execution_count": 100,
   "metadata": {
    "collapsed": true
   },
   "outputs": [],
   "source": [
    "        # Calculate gun deaths / 100,000 by race for homicides only: \n",
    "        intents = [row[3] for row in data]\n",
    "        races = [row[7] for row in data]\n",
    "        homicide_race_counts = {}\n",
    "        for i, race in enumerate(races): \n",
    "            if intents[i] == \"Homicide\":\n",
    "                if race not in homicide_race_counts:\n",
    "                    homicide_race_counts[race] = 0\n",
    "                else:\n",
    "                    homicide_race_counts[race] += 1\n",
    "        "
   ]
  },
  {
   "cell_type": "code",
   "execution_count": 101,
   "metadata": {
    "collapsed": false
   },
   "outputs": [
    {
     "name": "stdout",
     "output_type": "stream",
     "text": [
      "{'Native American/Native Alaskan': 8.690987526159873, 'White': 4.635135004464548, 'Hispanic': 12.624919861567406, 'Black': 48.468800554326656, 'Asian/Pacific Islander': 3.5240307636517825}\n"
     ]
    }
   ],
   "source": [
    "        for key, value in homicide_race_counts.items():\n",
    "            homicide_race_counts[key] = (value / mapping[key]) * 100000\n",
    "        print(homicide_race_counts)"
   ]
  },
  {
   "cell_type": "markdown",
   "metadata": {},
   "source": [
    "Findings: \n",
    "\n",
    "Upon analysis of gun death data, I found that homicides due to gun violence disproportionately affect Black and Hispanic people, and black people were also disproportionately affected by gun violence in general. \n",
    "\n",
    "Further questions: \n",
    "    - I would like to explore the relationship between gun deaths due to other causes (Suicide, Accidental) and determine \n",
    "        which races and genders were most affected by that. \n",
    "    - Which races and genders are most likely to be labeled \"Undetermined?"
   ]
  },
  {
   "cell_type": "code",
   "execution_count": 102,
   "metadata": {
    "collapsed": true
   },
   "outputs": [],
   "source": [
    "f.close()"
   ]
  }
 ],
 "metadata": {
  "kernelspec": {
   "display_name": "Python 3",
   "language": "python",
   "name": "python3"
  },
  "language_info": {
   "codemirror_mode": {
    "name": "ipython",
    "version": 3
   },
   "file_extension": ".py",
   "mimetype": "text/x-python",
   "name": "python",
   "nbconvert_exporter": "python",
   "pygments_lexer": "ipython3",
   "version": "3.4.3"
  }
 },
 "nbformat": 4,
 "nbformat_minor": 0
}
