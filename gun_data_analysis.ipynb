{
 "cells": [
  {
   "cell_type": "markdown",
   "metadata": {},
   "source": [
    "This is an analysis of a dataset from FiveThirtyEight on gun deaths in the US from 2012 - 2014. \n",
    "Each row in the dataset represents a single gun death. \n",
    "Column values: \n",
    "    * year -- year in which fatality occured\n",
    "    * month -- month in which fatality occured\n",
    "    * intent -- the intent of the perpetrator of the crime (Suicide, Accidental, NA, Homicide, or Undetermined.)\n",
    "    * police -- whether a police officer was involved in the shooting (0 - false or 1 - true)\n",
    "    * sex -- gender of the victim (M or F)\n",
    "    * age -- age of victim\n",
    "    * race -- race of victim (Asian/Pacific Islander, Native American/Native Alaskan, Black, Hispanic, or White.)\n",
    "    * hispanic -- a code indicating the Hispanic origin of the victim.\n",
    "    * place -- where the shooting occurred. Has several categories:\n",
    "        * Home\n",
    "        * Street\n",
    "        * Other specified\n",
    "    * education -- educational status of the victim. Can be one of the following:\n",
    "        * 1 -- Less than High School\n",
    "        * 2 -- Graduated from High School or equivalent\n",
    "        * 3 -- Some College\n",
    "        * 4 -- At least graduated from College\n",
    "        * 5 -- Not available"
   ]
  },
  {
   "cell_type": "code",
   "execution_count": 226,
   "metadata": {},
   "outputs": [],
   "source": [
    "import csv\n",
    "import datetime"
   ]
  },
  {
   "cell_type": "code",
   "execution_count": 227,
   "metadata": {},
   "outputs": [],
   "source": [
    "with open(\"guns.csv\", 'r') as f:\n",
    "    csv_read = csv.reader(f)\n",
    "    data = list(csv_read)\n",
    "    #print(data[0:5])"
   ]
  },
  {
   "cell_type": "code",
   "execution_count": 228,
   "metadata": {},
   "outputs": [],
   "source": [
    "    headers = data[0]\n",
    "    data = data[1:]\n",
    "    #print(headers)\n",
    "    #print(data[0:5])"
   ]
  },
  {
   "cell_type": "code",
   "execution_count": 229,
   "metadata": {},
   "outputs": [],
   "source": [
    "    # Function to count the number of occurences of each unique item in a list.\n",
    "    # Returns dictionary where key is item, value is number of occurences\n",
    "    def count(input_list):\n",
    "        return_dict = {}\n",
    "        for row in input_list:\n",
    "            if row in return_dict:\n",
    "                return_dict[row] += 1\n",
    "            else:\n",
    "                return_dict[row] = 1\n",
    "        return return_dict"
   ]
  },
  {
   "cell_type": "code",
   "execution_count": 230,
   "metadata": {},
   "outputs": [
    {
     "data": {
      "text/plain": [
       "{'2012': 33563, '2013': 33636, '2014': 33599}"
      ]
     },
     "execution_count": 230,
     "metadata": {},
     "output_type": "execute_result"
    }
   ],
   "source": [
    "    # Calculate how many gun deaths happened each year: \n",
    "    years = []\n",
    "    for row in data:\n",
    "        years.append(row[1])\n",
    "    year_counts = count(years)\n",
    "    year_counts"
   ]
  },
  {
   "cell_type": "markdown",
   "metadata": {},
   "source": [
    "Gun deaths appeared to remain relatively constant across years 2012 - 2014, so I examined by month and year:"
   ]
  },
  {
   "cell_type": "code",
   "execution_count": 231,
   "metadata": {},
   "outputs": [
    {
     "data": {
      "text/plain": [
       "{datetime.datetime(2012, 1, 1, 0, 0): 2758,\n",
       " datetime.datetime(2012, 2, 1, 0, 0): 2357,\n",
       " datetime.datetime(2012, 3, 1, 0, 0): 2743,\n",
       " datetime.datetime(2012, 4, 1, 0, 0): 2795,\n",
       " datetime.datetime(2012, 5, 1, 0, 0): 2999,\n",
       " datetime.datetime(2012, 6, 1, 0, 0): 2826,\n",
       " datetime.datetime(2012, 7, 1, 0, 0): 3026,\n",
       " datetime.datetime(2012, 8, 1, 0, 0): 2954,\n",
       " datetime.datetime(2012, 9, 1, 0, 0): 2852,\n",
       " datetime.datetime(2012, 10, 1, 0, 0): 2733,\n",
       " datetime.datetime(2012, 11, 1, 0, 0): 2729,\n",
       " datetime.datetime(2012, 12, 1, 0, 0): 2791,\n",
       " datetime.datetime(2013, 1, 1, 0, 0): 2864,\n",
       " datetime.datetime(2013, 2, 1, 0, 0): 2375,\n",
       " datetime.datetime(2013, 3, 1, 0, 0): 2862,\n",
       " datetime.datetime(2013, 4, 1, 0, 0): 2798,\n",
       " datetime.datetime(2013, 5, 1, 0, 0): 2806,\n",
       " datetime.datetime(2013, 6, 1, 0, 0): 2920,\n",
       " datetime.datetime(2013, 7, 1, 0, 0): 3079,\n",
       " datetime.datetime(2013, 8, 1, 0, 0): 2859,\n",
       " datetime.datetime(2013, 9, 1, 0, 0): 2742,\n",
       " datetime.datetime(2013, 10, 1, 0, 0): 2808,\n",
       " datetime.datetime(2013, 11, 1, 0, 0): 2758,\n",
       " datetime.datetime(2013, 12, 1, 0, 0): 2765,\n",
       " datetime.datetime(2014, 1, 1, 0, 0): 2651,\n",
       " datetime.datetime(2014, 2, 1, 0, 0): 2361,\n",
       " datetime.datetime(2014, 3, 1, 0, 0): 2684,\n",
       " datetime.datetime(2014, 4, 1, 0, 0): 2862,\n",
       " datetime.datetime(2014, 5, 1, 0, 0): 2864,\n",
       " datetime.datetime(2014, 6, 1, 0, 0): 2931,\n",
       " datetime.datetime(2014, 7, 1, 0, 0): 2884,\n",
       " datetime.datetime(2014, 8, 1, 0, 0): 2970,\n",
       " datetime.datetime(2014, 9, 1, 0, 0): 2914,\n",
       " datetime.datetime(2014, 10, 1, 0, 0): 2865,\n",
       " datetime.datetime(2014, 11, 1, 0, 0): 2756,\n",
       " datetime.datetime(2014, 12, 1, 0, 0): 2857}"
      ]
     },
     "execution_count": 231,
     "metadata": {},
     "output_type": "execute_result"
    }
   ],
   "source": [
    "    #Calculate gun deaths by month and year: \n",
    "    dates = []\n",
    "    for row in data:\n",
    "        date = datetime.datetime(year = int(row[1]), month = int(row[2]), day = 1)\n",
    "        dates.append(date)\n",
    "    date_counts = count(dates)\n",
    "    date_counts"
   ]
  },
  {
   "cell_type": "markdown",
   "metadata": {},
   "source": [
    "I noticed that higher numbers of gun deaths seemed to occur in the summer (5, 6, 7, 8). To better analyze this, I decided to find the average number of gun deaths per month, from 2012 - 2014: "
   ]
  },
  {
   "cell_type": "code",
   "execution_count": 232,
   "metadata": {},
   "outputs": [],
   "source": [
    "    def monthly_average(input_dict, month):\n",
    "        total_num = 0\n",
    "        total_sum = 0\n",
    "        for key, value in input_dict.items(): \n",
    "            if key.month == month:\n",
    "                total_sum += value\n",
    "                total_num += 1\n",
    "        avg = total_sum / total_num\n",
    "        return avg"
   ]
  },
  {
   "cell_type": "code",
   "execution_count": 233,
   "metadata": {},
   "outputs": [
    {
     "data": {
      "text/plain": [
       "{1: 2757.6666666666665,\n",
       " 2: 2364.3333333333335,\n",
       " 3: 2763.0,\n",
       " 4: 2818.3333333333335,\n",
       " 5: 2889.6666666666665,\n",
       " 6: 2892.3333333333335,\n",
       " 7: 2996.3333333333335,\n",
       " 8: 2927.6666666666665,\n",
       " 9: 2836.0,\n",
       " 10: 2802.0,\n",
       " 11: 2747.6666666666665,\n",
       " 12: 2804.3333333333335}"
      ]
     },
     "execution_count": 233,
     "metadata": {},
     "output_type": "execute_result"
    }
   ],
   "source": [
    "    monthly_averages = {}\n",
    "    month_numbers = (list(range(1, 13)))\n",
    "    for month in month_numbers: \n",
    "        monthly_averages[month] = monthly_average(date_counts, month)\n",
    "    monthly_averages"
   ]
  },
  {
   "cell_type": "markdown",
   "metadata": {},
   "source": [
    "It appears as the overall number of gun deaths does increase in months 5-8. I then decided to examine the data \n",
    "by types of gun deaths: "
   ]
  },
  {
   "cell_type": "code",
   "execution_count": 234,
   "metadata": {},
   "outputs": [
    {
     "data": {
      "text/plain": [
       "{'Suicide': 63175,\n",
       " 'Undetermined': 807,\n",
       " 'Accidental': 1639,\n",
       " 'Homicide': 35176,\n",
       " 'NA': 1}"
      ]
     },
     "execution_count": 234,
     "metadata": {},
     "output_type": "execute_result"
    }
   ],
   "source": [
    "    intents = [row[3] for row in data]\n",
    "    intent_counts = count(intents)\n",
    "    intent_counts"
   ]
  },
  {
   "cell_type": "markdown",
   "metadata": {},
   "source": [
    "I then examined gun deaths by race: "
   ]
  },
  {
   "cell_type": "code",
   "execution_count": 235,
   "metadata": {},
   "outputs": [
    {
     "data": {
      "text/plain": [
       "{'Asian/Pacific Islander': 1326,\n",
       " 'White': 66237,\n",
       " 'Native American/Native Alaskan': 917,\n",
       " 'Black': 23296,\n",
       " 'Hispanic': 9022}"
      ]
     },
     "execution_count": 235,
     "metadata": {},
     "output_type": "execute_result"
    }
   ],
   "source": [
    "    races = [row[7] for row in data]\n",
    "    race_counts = count(races)\n",
    "    race_counts"
   ]
  },
  {
   "cell_type": "code",
   "execution_count": 236,
   "metadata": {},
   "outputs": [],
   "source": [
    "    #Calculate gun deaths per 100,000 people in each race\n",
    "    with open(\"census.csv\", 'r') as d:\n",
    "        census_csv = csv.reader(d)\n",
    "        census = list(census_csv)\n",
    "        mapping = {\n",
    "            \"Asian/Pacific Islander\": 15159516 + 674625,\n",
    "            \"Native American/Native Alaskan\": 3739506,\n",
    "            \"Black\": 40250635,\n",
    "            \"Hispanic\": 44618105,\n",
    "            \"White\": 197318956\n",
    "        }\n",
    "        race_per_hundredk = {}\n",
    "        for key, value in race_counts.items(): \n",
    "            race_per_hundredk[key] = (value / mapping[key]) * 100000\n",
    "        race_per_hundredk"
   ]
  },
  {
   "cell_type": "code",
   "execution_count": 237,
   "metadata": {},
   "outputs": [],
   "source": [
    "        # Calculate gun deaths / 100,000 by race for homicides only: \n",
    "        homicide_race_counts = {}\n",
    "        for i, race in enumerate(races): \n",
    "            if intents[i] == \"Homicide\":\n",
    "                if race not in homicide_race_counts:\n",
    "                    homicide_race_counts[race] = 0\n",
    "                else:\n",
    "                    homicide_race_counts[race] += 1"
   ]
  },
  {
   "cell_type": "code",
   "execution_count": 238,
   "metadata": {},
   "outputs": [
    {
     "data": {
      "text/plain": [
       "{'White': 4.635135004464548,\n",
       " 'Asian/Pacific Islander': 3.5240307636517825,\n",
       " 'Black': 48.468800554326656,\n",
       " 'Native American/Native Alaskan': 8.690987526159873,\n",
       " 'Hispanic': 12.624919861567406}"
      ]
     },
     "execution_count": 238,
     "metadata": {},
     "output_type": "execute_result"
    }
   ],
   "source": [
    "        for key, value in homicide_race_counts.items():\n",
    "            homicide_race_counts[key] = (value / mapping[key]) * 100000\n",
    "        homicide_race_counts"
   ]
  },
  {
   "cell_type": "markdown",
   "metadata": {},
   "source": [
    "Findings: \n",
    "\n",
    "Upon analysis of gun death data, I found that homicides due to gun violence disproportionately affect Black and Hispanic people, and black people were also disproportionately affected by gun violence in general. \n",
    "\n",
    "Further questions: \n",
    "    * I would like to explore the relationship between gun deaths due to other causes (Suicide, Accidental) and determine \n",
    "        which races and genders were most affected by that. \n",
    "    * Which races and genders are most likely to be labeled \"Undetermined?"
   ]
  },
  {
   "cell_type": "code",
   "execution_count": 239,
   "metadata": {},
   "outputs": [],
   "source": [
    "f.close()"
   ]
  }
 ],
 "metadata": {
  "kernelspec": {
   "display_name": "Python 3",
   "language": "python",
   "name": "python3"
  },
  "language_info": {
   "codemirror_mode": {
    "name": "ipython",
    "version": 3
   },
   "file_extension": ".py",
   "mimetype": "text/x-python",
   "name": "python",
   "nbconvert_exporter": "python",
   "pygments_lexer": "ipython3",
   "version": "3.6.5"
  }
 },
 "nbformat": 4,
 "nbformat_minor": 2
}
